{
  "nbformat": 4,
  "nbformat_minor": 0,
  "metadata": {
    "colab": {
      "name": "python101_ALL.ipynb",
      "version": "0.3.2",
      "provenance": [],
      "collapsed_sections": [
        "_xz2vBm1TAU9"
      ],
      "include_colab_link": true
    },
    "kernelspec": {
      "name": "python3",
      "display_name": "Python 3"
    }
  },
  "cells": [
    {
      "cell_type": "markdown",
      "metadata": {
        "id": "view-in-github",
        "colab_type": "text"
      },
      "source": [
        "<a href=\"https://colab.research.google.com/github/KCLaurelie/python101/blob/master/python101_ALL.ipynb\" target=\"_parent\"><img src=\"https://colab.research.google.com/assets/colab-badge.svg\" alt=\"Open In Colab\"/></a>"
      ]
    },
    {
      "cell_type": "markdown",
      "metadata": {
        "id": "_xz2vBm1TAU9",
        "colab_type": "text"
      },
      "source": [
        "## INTRODUCTION\n",
        "\n",
        "what are python packages?\n",
        "\n",
        "conventions to import common packages\n",
        "\n",
        "\n",
        "---\n",
        "\n",
        "\n",
        "\n"
      ]
    },
    {
      "cell_type": "code",
      "metadata": {
        "id": "-F3npVjIbHLv",
        "colab_type": "code",
        "colab": {}
      },
      "source": [
        "import numpy as np  # to do maths\n",
        "import pandas as pd  # to work with dataframes\n",
        "import matplotlib.pyplot as plt  # to plot stuff"
      ],
      "execution_count": 0,
      "outputs": []
    },
    {
      "cell_type": "code",
      "metadata": {
        "id": "lr4SEwmfbXKZ",
        "colab_type": "code",
        "colab": {}
      },
      "source": [
        "# TODO: import numpy and test the ceiling function (to call: ceil(float))"
      ],
      "execution_count": 0,
      "outputs": []
    },
    {
      "cell_type": "code",
      "metadata": {
        "id": "tVhGdDvRTVso",
        "colab_type": "code",
        "cellView": "form",
        "colab": {}
      },
      "source": [
        "#@title double click for solution\n",
        "\n",
        "import numpy as np\n",
        "np.ceil(0.5)"
      ],
      "execution_count": 0,
      "outputs": []
    },
    {
      "cell_type": "markdown",
      "metadata": {
        "id": "8yhDIzrZRXB7",
        "colab_type": "text"
      },
      "source": [
        "## Lesson 1: Chocolate bars and boxes\n",
        "\n",
        "concepts used: function, arguments, keyword arguments, return (default: None), floor, ceil, type\n",
        "\n",
        "\n",
        "\n",
        "---\n",
        "\n",
        "\n"
      ]
    },
    {
      "cell_type": "markdown",
      "metadata": {
        "id": "McwMsXMxhwi3",
        "colab_type": "text"
      },
      "source": [
        "A chocolate factory produces 1000 bars of chocolate on average every day.\n",
        "\n",
        "The bars are packed in boxes, each can contain up to 20 bars.\n",
        "\n",
        "#### **1. Write a function to compute the number of boxes needed to store the chocolate bars produced.**\n"
      ]
    },
    {
      "cell_type": "code",
      "metadata": {
        "id": "2yjxwptWfwFN",
        "colab_type": "code",
        "colab": {}
      },
      "source": [
        "# TODO: create a function computing the number of boxes needed to store n_bars chocolate bars\n",
        "def n_boxes(n_bars,bars_per_box=20):\n",
        "    \n",
        "    return"
      ],
      "execution_count": 0,
      "outputs": []
    },
    {
      "cell_type": "code",
      "metadata": {
        "id": "A2xaYCzaQcu0",
        "colab_type": "code",
        "colab": {}
      },
      "source": [
        "#@title double click for solution { display-mode: \"form\" }\n",
        "\n",
        "def n_boxes(n_bars,bars_per_box=20):\n",
        "    res=n_bars/bars_per_box\n",
        "    return np.ceil(res)"
      ],
      "execution_count": 0,
      "outputs": []
    },
    {
      "cell_type": "code",
      "metadata": {
        "id": "mMOid0aWQlaA",
        "colab_type": "code",
        "colab": {}
      },
      "source": [
        "# test your function\n",
        "# note the different ways you can call it\n",
        "print(\"the factory needs\", n_boxes(1000), \"boxes to store the chocolate bars\")\n",
        "print(n_boxes(1000, 20))\n",
        "print(n_boxes(n_bars=1000))\n",
        "print(n_boxes(n_bars=1000, bars_per_box=20))\n",
        "print(n_boxes(bars_per_box=20, n_bars=1000))"
      ],
      "execution_count": 0,
      "outputs": []
    },
    {
      "cell_type": "markdown",
      "metadata": {
        "id": "HcoH45GyfPYP",
        "colab_type": "text"
      },
      "source": [
        "#### **2. now add a control to force input types to be integers**\n",
        "\n"
      ]
    },
    {
      "cell_type": "code",
      "metadata": {
        "id": "GLpRYf9fjsEn",
        "colab_type": "code",
        "colab": {}
      },
      "source": [
        "# new function to use (test it to see what it does!)\n",
        "# TODO: look online for other datatypes to test\n",
        "res1 = isinstance(12,int)\n",
        "res2 = isinstance(\"hello\",int)\n",
        "res3 = isinstance(\"hello\",str)\n",
        "\n",
        "print(res1, res2, res3)"
      ],
      "execution_count": 0,
      "outputs": []
    },
    {
      "cell_type": "code",
      "metadata": {
        "id": "8BfIx5GMjf7G",
        "colab_type": "code",
        "colab": {}
      },
      "source": [
        "# TODO: add control on input types\n",
        "def n_boxes(n_bars,bars_per_box=20):\n",
        "    \n",
        "    return"
      ],
      "execution_count": 0,
      "outputs": []
    },
    {
      "cell_type": "code",
      "metadata": {
        "id": "jLyqEvrlQozd",
        "colab_type": "code",
        "colab": {}
      },
      "source": [
        "#@title double click for solution { display-mode: \"form\" }\n",
        "\n",
        "def n_boxes(n_bars,bars_per_box=20):\n",
        "    if isinstance(n_bars,int) and isinstance(bars_per_box,int):\n",
        "        res=n_bars/bars_per_box\n",
        "        return np.ceil(res)\n",
        "    else:\n",
        "        print(\"Please use an integer\")\n",
        "        return 0\n",
        "\n",
        "print(n_boxes(21, 2.5))"
      ],
      "execution_count": 0,
      "outputs": []
    },
    {
      "cell_type": "markdown",
      "metadata": {
        "id": "BAv3bO7ig_9I",
        "colab_type": "text"
      },
      "source": [
        "A truck can carry a maximum of 100 boxes.\n",
        "Write a function that computes the number of trucks the factory need to transport 1000 chocolate bars (and then try with different number of bars).\n",
        "Note: a truck can only depart if it is at full capacity!\n",
        "\n",
        "**3. Write function to compute the number of trucks that will depart if the factory produced 1000 bars**"
      ]
    },
    {
      "cell_type": "code",
      "metadata": {
        "id": "s9yzxlF-luQb",
        "colab_type": "code",
        "colab": {}
      },
      "source": [
        "# TODO: write function"
      ],
      "execution_count": 0,
      "outputs": []
    },
    {
      "cell_type": "code",
      "metadata": {
        "id": "HUY8t8y_hCQs",
        "colab_type": "code",
        "colab": {}
      },
      "source": [
        "#@title double click for solution { display-mode: \"form\" }\n",
        "def n_trucks(n_bars,bars_per_box=20, boxes_per_truck=100):\n",
        "    if isinstance(boxes_per_truck, int):\n",
        "        res=n_boxes(n_bars=n_bars,bars_per_box=bars_per_box)/boxes_per_truck\n",
        "        return np.floor(res)\n",
        "    else:\n",
        "        return 0"
      ],
      "execution_count": 0,
      "outputs": []
    },
    {
      "cell_type": "markdown",
      "metadata": {
        "id": "6q_Kny6Il121",
        "colab_type": "text"
      },
      "source": [
        "\n",
        "## Lesson 2: Music and colors\n",
        "\n",
        "concepts used: lists (and lists comprehension), dictionaries, accessing elements, applying functions to lists/dictionaries\n",
        "\n",
        "sorting, operators (&, |, ==, !=, in)\n",
        "\n",
        "if...then..else, loops\n",
        "\n",
        "---\n"
      ]
    },
    {
      "cell_type": "markdown",
      "metadata": {
        "id": "RpfLwiRdrU-1",
        "colab_type": "text"
      },
      "source": [
        "#### **Small recap from last week: variables, function**"
      ]
    },
    {
      "cell_type": "code",
      "metadata": {
        "id": "bNvHsS7irhw2",
        "colab_type": "code",
        "colab": {}
      },
      "source": [
        "# TODO: \n",
        "# 1. create a variable var1, initialized to 1\n",
        "# 2. add 10 to var1 (do not write var1=11!!)\n",
        "# 3. write a function that takes as an argument var1 and returns var1+10\n",
        "\n",
        "var1=\n",
        "\n",
        "def my_function(var1,increment=10):\n",
        "  return 0\n",
        "\n",
        "# remember that if you don't write any \"return\" statement, your function will return \"None\""
      ],
      "execution_count": 0,
      "outputs": []
    },
    {
      "cell_type": "code",
      "metadata": {
        "id": "qYaQ73HNzOG2",
        "colab_type": "code",
        "colab": {}
      },
      "source": [
        "#@title double click for solution { display-mode: \"form\" }\n",
        "\n",
        "var1=1\n",
        "print('var1 =',var1)\n",
        "var1+=10\n",
        "print(\"var1 =\",var1)\n",
        "\n",
        "# note the equivalent use of single and double quotes\n",
        "\n",
        "def my_function(var1,increment=10):\n",
        "  return var1+increment\n",
        "\n",
        "print('my_function(2,22) gives:', my_function(2,22))"
      ],
      "execution_count": 0,
      "outputs": []
    },
    {
      "cell_type": "markdown",
      "metadata": {
        "id": "em5ylGEvps6_",
        "colab_type": "text"
      },
      "source": [
        "#### This week we will try to build explore 2 new variable types: lists and dictionaries.\n",
        "\n"
      ]
    },
    {
      "cell_type": "markdown",
      "metadata": {
        "id": "dg1Mgmd90svt",
        "colab_type": "text"
      },
      "source": [
        "#### **1. Lists and some basic operations on lists**"
      ]
    },
    {
      "cell_type": "markdown",
      "metadata": {
        "id": "qPsfm3zCVbha",
        "colab_type": "text"
      },
      "source": [
        "##### building the list\n",
        "the syntax for a list in python is [element1, element2...]"
      ]
    },
    {
      "cell_type": "code",
      "metadata": {
        "id": "NeSJxtn9tZwD",
        "colab_type": "code",
        "colab": {}
      },
      "source": [
        "# example of list\n",
        "rainbow = ['red', 'orange', 'yellow', 'green', 'blue', 'indigo', 'violet']\n",
        "print(rainbow)"
      ],
      "execution_count": 0,
      "outputs": []
    },
    {
      "cell_type": "code",
      "metadata": {
        "id": "4g4NBlYD1Kfa",
        "colab_type": "code",
        "colab": {}
      },
      "source": [
        "# TODO: store a list of 5 artists or songs in the variable \"my_music\"\n",
        "\n",
        "my_music = []"
      ],
      "execution_count": 0,
      "outputs": []
    },
    {
      "cell_type": "code",
      "metadata": {
        "id": "fdDxHIn71b4n",
        "colab_type": "code",
        "colab": {}
      },
      "source": [
        "#@title double click for solution { display-mode: \"form\" }\n",
        "# for example\n",
        "\n",
        "my_music = ['Pink Floyd', 'Stone Roses', 'Neil Young', 'Kasabian', 'Led Zeppelin']\n",
        "print(my_music)"
      ],
      "execution_count": 0,
      "outputs": []
    },
    {
      "cell_type": "markdown",
      "metadata": {
        "id": "XqaXaeOGSX9M",
        "colab_type": "text"
      },
      "source": [
        "##### going through the list"
      ]
    },
    {
      "cell_type": "code",
      "metadata": {
        "id": "EsLGjbc6S7yY",
        "colab_type": "code",
        "colab": {}
      },
      "source": [
        "# a list starts at 0\n",
        "print(my_music[5]) # this will throw an error"
      ],
      "execution_count": 0,
      "outputs": []
    },
    {
      "cell_type": "code",
      "metadata": {
        "id": "8Joeb9UUTWlS",
        "colab_type": "code",
        "colab": {}
      },
      "source": [
        "# TODO: retrieve different elements from the list\n",
        "# test what len(my_music) does, and use it to get the last element of the list"
      ],
      "execution_count": 0,
      "outputs": []
    },
    {
      "cell_type": "code",
      "metadata": {
        "id": "z77UNyoVSiG5",
        "colab_type": "code",
        "colab": {}
      },
      "source": [
        "#@title double click for solution { display-mode: \"form\" }\n",
        "\n",
        "print(my_music[0])\n",
        "print(my_music[0:2])\n",
        "len(my_music)\n",
        "print(len(my_music))\n",
        "print(my_music[len(my_music)-1])\n",
        "print(my_music[-1])"
      ],
      "execution_count": 0,
      "outputs": []
    },
    {
      "cell_type": "markdown",
      "metadata": {
        "id": "5SaiaHwMUTEh",
        "colab_type": "text"
      },
      "source": [
        "for loops: use for loops to print all elements in the list\n",
        "\n",
        "syntax:\n",
        "\n",
        "for elem in elem_list:\n",
        "    # do stuff"
      ]
    },
    {
      "cell_type": "code",
      "metadata": {
        "id": "qsPei4I4rJy_",
        "colab_type": "code",
        "colab": {}
      },
      "source": [
        "# TODO: print all elements from my_music using a for loop"
      ],
      "execution_count": 0,
      "outputs": []
    },
    {
      "cell_type": "code",
      "metadata": {
        "id": "SJYeq-zASeN6",
        "colab_type": "code",
        "colab": {}
      },
      "source": [
        "#@title double click for solution { display-mode: \"form\" }\n",
        "for i in my_music:\n",
        "    print(i)"
      ],
      "execution_count": 0,
      "outputs": []
    },
    {
      "cell_type": "markdown",
      "metadata": {
        "id": "IaEggX9dnl4S",
        "colab_type": "text"
      },
      "source": [
        "##### checking what's in the list: some comparison operators (like, not like, ==, !=)"
      ]
    },
    {
      "cell_type": "markdown",
      "metadata": {
        "id": "ck27OTfXnsmy",
        "colab_type": "text"
      },
      "source": [
        "to test if a specific element is in the list: use \"in\", \"not in\", \"==\", \"!=\", \"&\", \"|\""
      ]
    },
    {
      "cell_type": "code",
      "metadata": {
        "id": "ihOn2Gp7kSIv",
        "colab_type": "code",
        "colab": {}
      },
      "source": [
        "# EXAMPLES on strings\n",
        "color = 'black and white'\n",
        "print(color == 'black and white') # color is equal to 'black'\n",
        "print(color != 'black') # color is not equal to 'black'\n",
        "print('black' in color) # color contains the substring 'black'\n",
        "print('pink' not in color) # color does not contain the substring 'black'\n",
        "print(('black' in color) & ('white' in color)) # color contains both 'black' and 'white'\n",
        "print(('black' in color) | ('pink' in color)) # color contains 'black' or 'pink'"
      ],
      "execution_count": 0,
      "outputs": []
    },
    {
      "cell_type": "code",
      "metadata": {
        "id": "JCNbhdP0oCA5",
        "colab_type": "code",
        "colab": {}
      },
      "source": [
        "# TODO: test examples on my_music or rainbow and see how these generalize to lists"
      ],
      "execution_count": 0,
      "outputs": []
    },
    {
      "cell_type": "code",
      "metadata": {
        "id": "S60nWwOgqIWw",
        "colab_type": "code",
        "colab": {}
      },
      "source": [
        "#@title double click for sample solution { display-mode: \"form\" }\n",
        "\n",
        "# some examples of what you can test\n",
        "print('red' in rainbow)\n",
        "print('ed' in rainbow[0])\n",
        "print(my_music[0] == 'red')"
      ],
      "execution_count": 0,
      "outputs": []
    },
    {
      "cell_type": "markdown",
      "metadata": {
        "id": "6v83CcbS2aIt",
        "colab_type": "text"
      },
      "source": [
        "##### some useful functions for lists: sort(), append(), remove()"
      ]
    },
    {
      "cell_type": "code",
      "metadata": {
        "id": "X6jfRXXRQR7t",
        "colab_type": "code",
        "colab": {}
      },
      "source": [
        "# TODO: test functions sort(), append() and remove()\n",
        "# append a new element to my_music\n",
        "# remove an element from my_music\n",
        "# sort the list alphabetically"
      ],
      "execution_count": 0,
      "outputs": []
    },
    {
      "cell_type": "code",
      "metadata": {
        "id": "nXMosiBv2lQh",
        "colab_type": "code",
        "colab": {}
      },
      "source": [
        "#@title double click for solution { display-mode: \"form\" }\n",
        "my_music.append(\"Metallica\")\n",
        "print(my_music)\n",
        "my_music.remove(\"Metallica\")\n",
        "print(my_music)\n",
        "my_music.sort()\n",
        "print(my_music)"
      ],
      "execution_count": 0,
      "outputs": []
    },
    {
      "cell_type": "markdown",
      "metadata": {
        "id": "F9n7DcLlwV5-",
        "colab_type": "text"
      },
      "source": [
        "other ways to play with lists: using +, *"
      ]
    },
    {
      "cell_type": "code",
      "metadata": {
        "id": "KyJJq-38wafb",
        "colab_type": "code",
        "colab": {}
      },
      "source": [
        "# TODO: test the operations below and try new ones\n",
        "\n",
        "my_music = my_music + ['Bob Marley']  # equivalent to my_music.append({artist name})\n",
        "my_music += ['Bach']  # equivalent to my_music.append({artist name})\n",
        "print(my_music)\n",
        "print(my_music+rainbow)\n",
        "print(rainbow*2)"
      ],
      "execution_count": 0,
      "outputs": []
    },
    {
      "cell_type": "markdown",
      "metadata": {
        "id": "f-WgvtdXf7__",
        "colab_type": "text"
      },
      "source": [
        "##### if...then...else\n",
        "\n"
      ]
    },
    {
      "cell_type": "markdown",
      "metadata": {
        "id": "3ZkW3kvp9Tli",
        "colab_type": "text"
      },
      "source": [
        "the syntax for if statments is:\n",
        "\n",
        "\n",
        ">if {test1}:\n",
        ">>do stuff\n",
        "\n",
        ">elif {test2}:\n",
        ">> do other stuff\n",
        "\n",
        ">elif{testn}: \n",
        ">>do other stuff\n",
        "\n",
        ">else:\n",
        ">>default stuff"
      ]
    },
    {
      "cell_type": "code",
      "metadata": {
        "id": "EDl8dGEZrVJg",
        "colab_type": "code",
        "colab": {}
      },
      "source": [
        "# TODO: test if a string should be classified as an artist or a color, using my_music and rainbow lists\n",
        "\n",
        "def color_or_music(my_string):\n",
        "  # TODO"
      ],
      "execution_count": 0,
      "outputs": []
    },
    {
      "cell_type": "code",
      "metadata": {
        "id": "GbKVY2HumLlB",
        "colab_type": "code",
        "colab": {}
      },
      "source": [
        "#@title double click for solution { display-mode: \"form\" }\n",
        "\n",
        "def color_or_music(my_string):\n",
        "  if my_string in my_music:\n",
        "    print(my_string, 'is music')\n",
        "  elif my_string in rainbow:\n",
        "    print(my_string, 'is a color')\n",
        "  else:\n",
        "    print(my_string, 'is not a color nor music')\n",
        "  return 0\n",
        "\n",
        "print(color_or_music('red'))\n",
        "print(color_or_music('Kasabian'))\n",
        "print(color_or_music('bla'))"
      ],
      "execution_count": 0,
      "outputs": []
    },
    {
      "cell_type": "markdown",
      "metadata": {
        "id": "HqxyNQK-j_WT",
        "colab_type": "text"
      },
      "source": [
        "##### a bit more complicated: let's mix if statments and for loops\n",
        "we want to print all songs/artists containing the letter 'y'"
      ]
    },
    {
      "cell_type": "code",
      "metadata": {
        "id": "PYqnn-lggXbi",
        "colab_type": "code",
        "colab": {}
      },
      "source": [
        "#@title double click for solution { display-mode: \"form\" }\n",
        "\n",
        "# 1st way to write that\n",
        "for i in my_music:\n",
        "    if 'y' in i:\n",
        "      print(i, 'contains a y')\n",
        "    else:\n",
        "      print(i, 'does not contains a y')\n",
        "\n",
        "# 2nd way to write that\n",
        "for i in my_music:\n",
        "    print(i, 'contains a y') if 'y' in i else print(i, 'does not contain y')\n",
        "\n",
        "# actually we don't really need the second part of the if statement...\n",
        "for i in my_music:\n",
        "    if 'y' in i: print(i)"
      ],
      "execution_count": 0,
      "outputs": []
    },
    {
      "cell_type": "markdown",
      "metadata": {
        "id": "xHXuk0It5bGf",
        "colab_type": "text"
      },
      "source": [
        "##### list comprehensions: \n",
        "\n",
        "used to apply a function to all elements of a list\n",
        "\n",
        "syntax: \n",
        "* [function(x) for x in my_music]\n",
        "* [x for x in my_music if ...]\n",
        "\n"
      ]
    },
    {
      "cell_type": "markdown",
      "metadata": {
        "id": "lODcPz_f1RaV",
        "colab_type": "text"
      },
      "source": [
        "first let's try to remove all elements from the list containing a certain substring"
      ]
    },
    {
      "cell_type": "code",
      "metadata": {
        "id": "xyjp5qsd1alp",
        "colab_type": "code",
        "colab": {}
      },
      "source": [
        "# TODO: remove all elements from rainbow containing the letter 'o'\n",
        "# try other examples on my_music"
      ],
      "execution_count": 0,
      "outputs": []
    },
    {
      "cell_type": "code",
      "metadata": {
        "id": "y5QFYUXK3fbW",
        "colab_type": "code",
        "colab": {}
      },
      "source": [
        "#@title double click for solution { display-mode: \"form\" }\n",
        "print([x for x in rainbow if 'o' not in x])\n",
        "print([x for x in my_music if 'Pink' in x])\n",
        "\n",
        "# note: to avoid case sensitivity, we can use:\n",
        "print([x for x in my_music if 'pink' in x.lower()])"
      ],
      "execution_count": 0,
      "outputs": []
    },
    {
      "cell_type": "markdown",
      "metadata": {
        "id": "Bb5aqB5I26Nf",
        "colab_type": "text"
      },
      "source": [
        "now let's apply the function lower() that converts strings to lowercases to our list (very useful for NLP applications)"
      ]
    },
    {
      "cell_type": "code",
      "metadata": {
        "id": "EHMk3hdu2-Bb",
        "colab_type": "code",
        "colab": {}
      },
      "source": [
        "# first, let's look at some examples of use for the functions lower()/upper()\n",
        "tmp_string = 'Hello'\n",
        "print(tmp_string.lower())\n",
        "print(tmp_string.upper())"
      ],
      "execution_count": 0,
      "outputs": []
    },
    {
      "cell_type": "code",
      "metadata": {
        "id": "oUl2aoJLfw96",
        "colab_type": "code",
        "colab": {}
      },
      "source": [
        "# TODO: convert my_music to lower cases"
      ],
      "execution_count": 0,
      "outputs": []
    },
    {
      "cell_type": "code",
      "metadata": {
        "id": "maHlV25T5qdf",
        "colab_type": "code",
        "colab": {}
      },
      "source": [
        "#@title double click for solution { display-mode: \"form\" }\n",
        "\n",
        "[x.lower() for x in my_music]\n",
        "\n",
        "# note you can also do this using (but that's a lesson for next time!)\n",
        "map(str.lower,my_music)\n",
        "map(lambda x:x.lower(),my_music)"
      ],
      "execution_count": 0,
      "outputs": []
    },
    {
      "cell_type": "markdown",
      "metadata": {
        "id": "SIygNzoxyN-W",
        "colab_type": "text"
      },
      "source": [
        "## Lesson 3: Shuffling music\n",
        "\n",
        "concepts used: random numbers, dictionaries (+ everything from previous weeks!)\n",
        "\n",
        "\n",
        "---\n",
        "\n"
      ]
    },
    {
      "cell_type": "code",
      "metadata": {
        "id": "DNTlJV_iivmw",
        "colab_type": "code",
        "colab": {}
      },
      "source": [
        "# list of imports we will need\n",
        "import numpy as np\n",
        "import random  # to generate random numbers\n",
        "import time  # to test execution times of code\n",
        "import itertools\n",
        "import functools\n",
        "import operator"
      ],
      "execution_count": 0,
      "outputs": []
    },
    {
      "cell_type": "markdown",
      "metadata": {
        "id": "hTfo15XobODp",
        "colab_type": "text"
      },
      "source": [
        "#### **1. Re-do the exercizes from last week using dictionaries instead of lists**"
      ]
    },
    {
      "cell_type": "code",
      "metadata": {
        "id": "Ne2GahwbcUdf",
        "colab_type": "code",
        "colab": {}
      },
      "source": [
        "# dictionary syntax\n",
        "# careful, keys must be unique\n",
        "dict1 = {'key1':1,'key2':2}\n",
        "dict2 = {'key1':'value1','key2':'value2'}"
      ],
      "execution_count": 0,
      "outputs": []
    },
    {
      "cell_type": "code",
      "metadata": {
        "id": "52Ez6l_B1Tth",
        "colab_type": "code",
        "colab": {}
      },
      "source": [
        "# TODO: build a dictionary of artists / songs\n",
        "\n",
        "music_dict = {}"
      ],
      "execution_count": 0,
      "outputs": []
    },
    {
      "cell_type": "code",
      "metadata": {
        "id": "5b5bRexkbNLR",
        "colab_type": "code",
        "colab": {}
      },
      "source": [
        "#@title double click for solution { display-mode: \"form\" }\n",
        "\n",
        "music_dict = {'pink floyd 1':'comfortably numb', \\\n",
        "              'pink floyd 2':'bike', \\\n",
        "              'kasabian 1':'fire', \\\n",
        "              'kasabian 2':'lsf'}\n",
        "\n",
        "# note the usage of \\ to make the code easier to read"
      ],
      "execution_count": 0,
      "outputs": []
    },
    {
      "cell_type": "markdown",
      "metadata": {
        "id": "KGnReBUE4Mj3",
        "colab_type": "text"
      },
      "source": [
        "let's try to extract elements from our dictionary:\n",
        "\n",
        "*   get all keys: dict.keys()\n",
        "*   get all values: dict.values()\n",
        "*   get all items: dict.items()\n",
        "*   get items corresponding to a specific key: dict[key]\n",
        "\n"
      ]
    },
    {
      "cell_type": "code",
      "metadata": {
        "id": "o6uAwRu24wkx",
        "colab_type": "code",
        "colab": {}
      },
      "source": [
        "# TODO: try using the functions above on your dictionary\n",
        "# then write a function that returns a list of all songs from your dictionary\n",
        "\n",
        "def get_all_songs(dict):"
      ],
      "execution_count": 0,
      "outputs": []
    },
    {
      "cell_type": "code",
      "metadata": {
        "id": "Tu6JQzTCS1I1",
        "colab_type": "code",
        "colab": {}
      },
      "source": [
        "#@title double click for solution { display-mode: \"form\" }\n",
        "\n",
        "print(music_dict['kasabian 1'])\n",
        "print(music_dict.items())\n",
        "print(music_dict.keys())\n",
        "print(music_dict.values())\n",
        "\n",
        "def get_all_songs(dict):\n",
        "  return list(dict.values())\n",
        "\n",
        "print(get_all_songs(music_dict))"
      ],
      "execution_count": 0,
      "outputs": []
    },
    {
      "cell_type": "code",
      "metadata": {
        "id": "S0vtu15Ac3qD",
        "colab_type": "code",
        "colab": {}
      },
      "source": [
        "# how to store several songs for the same artists but keep unique keys?\n",
        "# solution: dictionary of lists!\n",
        "\n",
        "# TODO: create your dictionary using as key: artist name / elements: list of songs"
      ],
      "execution_count": 0,
      "outputs": []
    },
    {
      "cell_type": "code",
      "metadata": {
        "id": "5X4DgzcBcAgL",
        "colab_type": "code",
        "colab": {}
      },
      "source": [
        "#@title double click for solution { display-mode: \"form\" }\n",
        "\n",
        "music_dict = {'pink floyd':['comfortably numb','bike'], \\\n",
        "             'kasabian' : ['fire', 'lsf', 'fast fuse'], \\\n",
        "             'metallica' : ['one', 'orion', 'fuel'], \\\n",
        "             'bjork' : ['hunter', 'joga', 'unravel', 'bachelorette', \\\n",
        "                        'pluto'], \\\n",
        "              'led zeppelin': ['kashmir']\n",
        "            }\n",
        "\n",
        "print(music_dict['kasabian'])\n",
        "print(music_dict.values())"
      ],
      "execution_count": 0,
      "outputs": []
    },
    {
      "cell_type": "code",
      "metadata": {
        "id": "OEGYD3ieTh5C",
        "colab_type": "code",
        "colab": {}
      },
      "source": [
        "# TODO: create a function that returns all songs from the dictionary of lists (and also works with a simple dictionary)\n",
        "\n",
        "def get_all_songs(dict):"
      ],
      "execution_count": 0,
      "outputs": []
    },
    {
      "cell_type": "code",
      "metadata": {
        "id": "pLSF4RPR5Qpb",
        "colab_type": "code",
        "colab": {}
      },
      "source": [
        "#@title double click for solution { display-mode: \"form\" }\n",
        "\n",
        "# there are actually many ways to do that, here we will give a few examples with time to compare performance\n",
        "\n",
        "# the append solution\n",
        "def get_all_songs_app(dict):\n",
        "  start = time.time()\n",
        "  list1d = []\n",
        "  for song in dict.values(): \n",
        "      list1d += song\n",
        "  end = time.time()\n",
        "  return end-start, list1d\n",
        "\n",
        "# the forfor version\n",
        "def get_all_songs_ff(dict):\n",
        "  start = time.time()\n",
        "  list2d = dict.values()\n",
        "  list1d = [item for sublist in list2d for item in sublist]\n",
        "  end = time.time()\n",
        "  return end-start, list1d\n",
        "\n",
        "# the itertools solution\n",
        "def get_all_songs_itt(dict):\n",
        "  start = time.time()\n",
        "  list2d = dict.values()\n",
        "  list1d = list(itertools.chain.from_iterable(list2d))\n",
        "  end = time.time()\n",
        "  return end-start, list1d\n",
        "\n",
        "# the functools solution\n",
        "def get_all_songs_ft(dict):\n",
        "  start = time.time()\n",
        "  list2d = dict.values()\n",
        "  list1d = functools.reduce(operator.iconcat, list2d, [])\n",
        "  end = time.time()\n",
        "  return end-start, list1d\n",
        "\n",
        "\n",
        "# which is the fastest?\n",
        "print('append:',get_all_songs_app(music_dict))\n",
        "print('forfor:',get_all_songs_ff(music_dict))\n",
        "print('itertools:',get_all_songs_itt(music_dict))\n",
        "print('functools:',get_all_songs_ft(music_dict))"
      ],
      "execution_count": 0,
      "outputs": []
    },
    {
      "cell_type": "code",
      "metadata": {
        "id": "zXIurPrBzzXl",
        "colab_type": "code",
        "colab": {}
      },
      "source": [
        "#@title double click for solution { display-mode: \"form\" }\n",
        "\n",
        "def get_all_songs(dict):\n",
        "  all_songs=[]\n",
        "  for song in dict.values():\n",
        "    if isinstance(song,str): song = [song] # so it works for any type of item\n",
        "    all_songs += song\n",
        "  return all_songs\n",
        "\n",
        "print(get_all_songs(music_dict))"
      ],
      "execution_count": 0,
      "outputs": []
    },
    {
      "cell_type": "markdown",
      "metadata": {
        "colab_type": "text",
        "id": "HQUHhOtVt79q"
      },
      "source": [
        "#### **2. Random numbers**\n",
        "\n",
        "numpy allows you to generate random numbers\n",
        "\n",
        "try the functions\n",
        "- random.uniform\n",
        "- random.randint\n",
        "\n",
        "don't forget the trick when calling functions from imported packages! "
      ]
    },
    {
      "cell_type": "code",
      "metadata": {
        "id": "lvlGL0-DrB5E",
        "colab_type": "code",
        "colab": {}
      },
      "source": [
        "#@title double click for solution { display-mode: \"form\" }\n",
        "\n",
        "np.random.seed(42) # initiate the seed (so the same list of random numbers is generated every time)\n",
        "rnd1 = np.random.uniform(-10,10)\n",
        "rnd2 = np.random.randint(-10,10)\n",
        "rnd3 = np.random.randint(-10,10, 3)\n",
        "\n",
        "print(rnd1, rnd2, rnd3)"
      ],
      "execution_count": 0,
      "outputs": []
    },
    {
      "cell_type": "code",
      "metadata": {
        "id": "Sw9NCPMsNPaD",
        "colab_type": "code",
        "colab": {}
      },
      "source": [
        "# TODO: select a random element from a list"
      ],
      "execution_count": 0,
      "outputs": []
    },
    {
      "cell_type": "markdown",
      "metadata": {
        "id": "rP_Znk9sTzwY",
        "colab_type": "text"
      },
      "source": [
        "#### **3. Putting it all together: select random songs from the dictionary**\n"
      ]
    },
    {
      "cell_type": "code",
      "metadata": {
        "id": "p2F0me9dUK-G",
        "colab_type": "code",
        "colab": {}
      },
      "source": [
        "# TODO: write a function that selects n songs (randomly) from the dictionary"
      ],
      "execution_count": 0,
      "outputs": []
    },
    {
      "cell_type": "code",
      "metadata": {
        "id": "Ur1HjVfLNext",
        "colab_type": "code",
        "colab": {}
      },
      "source": [
        "#@title double click for solution { display-mode: \"form\" }\n",
        "\n",
        "# the manual way\n",
        "def random_song_manual(dict, seed=42, num_songs=1):\n",
        "  start = time.time()\n",
        "  np.random.seed(42)\n",
        "  songs = get_all_songs(dict)\n",
        "  rnd = np.random.randint(0,len(songs)-1, num_songs)\n",
        "  res = [songs[i] for i in list(rnd)]\n",
        "  end = time.time()\n",
        "  return end-start, res\n",
        "\n",
        "# the lazy way\n",
        "def random_song(dict, seed=42, num_songs=1):\n",
        "  start = time.time()\n",
        "  random.seed(seed)\n",
        "  songs = get_all_songs(music_dict)\n",
        "  res = random.sample(songs, num_songs)\n",
        "  end = time.time()\n",
        "  return end-start, res\n",
        "\n",
        "# which do you think is faster?\n",
        "print('manual:', random_song_manual(music_dict, num_songs=10))\n",
        "print('lazy:', random_song(music_dict, num_songs=10))"
      ],
      "execution_count": 0,
      "outputs": []
    },
    {
      "cell_type": "code",
      "metadata": {
        "id": "X_RQhYqW2YQk",
        "colab_type": "code",
        "colab": {}
      },
      "source": [
        "# shuffling all songs: there's actually already a function doing that\n",
        "to_shuffle = get_all_songs(music_dict) # getting the list of songs\n",
        "print(to_shuffle)\n",
        "random.seed(42)\n",
        "random.shuffle(to_shuffle) # shuffling\n",
        "print(to_shuffle)\n",
        "\n",
        "# that's all...."
      ],
      "execution_count": 0,
      "outputs": []
    },
    {
      "cell_type": "markdown",
      "metadata": {
        "id": "MaM0IQUwP3OQ",
        "colab_type": "text"
      },
      "source": [
        "**bonus question**: ensure 2 subsequent songs are not from the same artist"
      ]
    },
    {
      "cell_type": "code",
      "metadata": {
        "id": "fvJ521OuUkLl",
        "colab_type": "code",
        "colab": {}
      },
      "source": [
        "# for this question you may want to try a while loop.\n",
        "# look at the syntax:\n",
        "i = 1\n",
        "while i < 6:\n",
        "  print(i)\n",
        "  i += 1\n",
        "  \n",
        "# to exit the loop when i=3\n",
        "i = 1\n",
        "while i < 6:\n",
        "  print(i)\n",
        "  if i == 3: break\n",
        "  i += 1"
      ],
      "execution_count": 0,
      "outputs": []
    },
    {
      "cell_type": "markdown",
      "metadata": {
        "id": "jIfThKxn2myh",
        "colab_type": "text"
      },
      "source": [
        "## Lesson 4: ICD codes  (WIP, NEED TO ADD CONTENT)\n",
        "\n",
        "concepts used: pandas dataframes and series (cleaning data, slicing, dicing, merging, plotting)\n",
        "\n",
        "get the icd codes list from: https://github.com/kamillamagna/ICD-10-CSV/blob/master/codes.csv and save the file in your google drive folder\n",
        "\n",
        "\n",
        "\n",
        "---\n",
        "\n"
      ]
    },
    {
      "cell_type": "code",
      "metadata": {
        "id": "pq4mNmK98ZDk",
        "colab_type": "code",
        "colab": {}
      },
      "source": [
        "# packages to import for this lesson\n",
        "import os  # to access files etc\n",
        "import pandas as pd\n",
        "import numpy as np"
      ],
      "execution_count": 0,
      "outputs": []
    },
    {
      "cell_type": "code",
      "metadata": {
        "id": "9z86DFqj6ucV",
        "colab_type": "code",
        "colab": {
          "base_uri": "https://localhost:8080/",
          "height": 123
        },
        "outputId": "24547518-6ade-400b-a820-30b8d1254da6"
      },
      "source": [
        "# actually we don't need that but cool feature from google colab\n",
        "from google.colab import drive\n",
        "drive.mount('/content/gdrive')"
      ],
      "execution_count": 77,
      "outputs": [
        {
          "output_type": "stream",
          "text": [
            "Go to this URL in a browser: https://accounts.google.com/o/oauth2/auth?client_id=947318989803-6bn6qk8qdgf4n4g3pfee6491hc0brc4i.apps.googleusercontent.com&redirect_uri=urn%3Aietf%3Awg%3Aoauth%3A2.0%3Aoob&scope=email%20https%3A%2F%2Fwww.googleapis.com%2Fauth%2Fdocs.test%20https%3A%2F%2Fwww.googleapis.com%2Fauth%2Fdrive%20https%3A%2F%2Fwww.googleapis.com%2Fauth%2Fdrive.photos.readonly%20https%3A%2F%2Fwww.googleapis.com%2Fauth%2Fpeopleapi.readonly&response_type=code\n",
            "\n",
            "Enter your authorization code:\n",
            "··········\n",
            "Mounted at /content/gdrive\n"
          ],
          "name": "stdout"
        }
      ]
    },
    {
      "cell_type": "code",
      "metadata": {
        "id": "VrFX-UMwQX2P",
        "colab_type": "code",
        "colab": {}
      },
      "source": [
        "root_path = 'gdrive/My Drive/Colab Notebooks/'\n",
        "file_path = os.path.join(root_path, 'icd_codes.csv')"
      ],
      "execution_count": 0,
      "outputs": []
    },
    {
      "cell_type": "markdown",
      "metadata": {
        "id": "zDK2Xu1BFywV",
        "colab_type": "text"
      },
      "source": [
        "### 1. loading the ICD codes file and exploring the data"
      ]
    },
    {
      "cell_type": "code",
      "metadata": {
        "id": "-1lWgqv_x6r8",
        "colab_type": "code",
        "colab": {}
      },
      "source": [
        "file_path  = 'https://raw.githubusercontent.com/kamillamagna/ICD-10-CSV/master/codes.csv'\n",
        "df = pd.read_csv(file_path)"
      ],
      "execution_count": 0,
      "outputs": []
    },
    {
      "cell_type": "markdown",
      "metadata": {
        "id": "cO3o7RD6S70c",
        "colab_type": "text"
      },
      "source": [
        "#### some useful functions to explore the dataframe"
      ]
    },
    {
      "cell_type": "code",
      "metadata": {
        "id": "lPtc3rXq6697",
        "colab_type": "code",
        "colab": {}
      },
      "source": [
        "# have a quick look at the file\n",
        "df.head()"
      ],
      "execution_count": 0,
      "outputs": []
    },
    {
      "cell_type": "code",
      "metadata": {
        "id": "tb8s6vWc-2PT",
        "colab_type": "code",
        "colab": {}
      },
      "source": [
        "# basic stats on the dataframe\n",
        "df.describe(include='all') # note: if you don't use the option include='all', it will only show stats for numerical values contained in df"
      ],
      "execution_count": 0,
      "outputs": []
    },
    {
      "cell_type": "code",
      "metadata": {
        "id": "hP6RuwoF_Pee",
        "colab_type": "code",
        "colab": {}
      },
      "source": [
        "# display headers information\n",
        "df.columns"
      ],
      "execution_count": 0,
      "outputs": []
    },
    {
      "cell_type": "code",
      "metadata": {
        "id": "tKqCON-SG7ku",
        "colab_type": "code",
        "colab": {}
      },
      "source": [
        "# how many unique categories\n",
        "len(df['Category Code'].unique())"
      ],
      "execution_count": 0,
      "outputs": []
    },
    {
      "cell_type": "code",
      "metadata": {
        "id": "64WIQ1mDTCZU",
        "colab_type": "code",
        "colab": {}
      },
      "source": [
        "# TODO: convert all column titles to lower cases"
      ],
      "execution_count": 0,
      "outputs": []
    },
    {
      "cell_type": "markdown",
      "metadata": {
        "id": "HozwPUvYTIE_",
        "colab_type": "text"
      },
      "source": [
        "#### slicing & dicing"
      ]
    },
    {
      "cell_type": "code",
      "metadata": {
        "id": "BJ1EXUuG_Two",
        "colab_type": "code",
        "colab": {}
      },
      "source": [
        "# simple slicing: select rows for which category code is F20\n",
        "df.loc[df['Category Code'] == 'F20'] # shows all columns\n",
        "df.loc[df['Category Code'] == 'F20', ['Category Code','Abbreviated Description']] # shows only specific columns"
      ],
      "execution_count": 0,
      "outputs": []
    },
    {
      "cell_type": "code",
      "metadata": {
        "id": "M8pPLgBW_0su",
        "colab_type": "code",
        "colab": {}
      },
      "source": [
        "df.loc[df['Category Code'].isin(['F20', 'F21'])] # several values"
      ],
      "execution_count": 0,
      "outputs": []
    },
    {
      "cell_type": "markdown",
      "metadata": {
        "id": "fYFzJqlVRTMQ",
        "colab_type": "text"
      },
      "source": [
        "slicing based on a more complex rule"
      ]
    },
    {
      "cell_type": "code",
      "metadata": {
        "id": "NX5hWT6WRXbM",
        "colab_type": "code",
        "colab": {}
      },
      "source": [
        "# TODO: show data for the ICD codes containing the letter F (correspond to mental disorders)\n",
        "df.loc[df['Category Code'].str.contains(\"F\")==True, 'Specialty'] "
      ],
      "execution_count": 0,
      "outputs": []
    },
    {
      "cell_type": "markdown",
      "metadata": {
        "id": "ba_y1d8URpIt",
        "colab_type": "text"
      },
      "source": [
        "adding a new column to the dataframe"
      ]
    },
    {
      "cell_type": "code",
      "metadata": {
        "id": "QjkzpWV-RoGn",
        "colab_type": "code",
        "colab": {}
      },
      "source": [
        "df['new column'] = 'test'\n",
        "\n",
        "# all these are equivalent\n",
        "df = df.drop(columns=['new column'])\n",
        "df.drop(columns=['new column'], inplace = True) # inplace: means the variable will be modified\n",
        "df.drop(['new column'], axis=1, inplace = True) #  axis = 1: means its a column we want to remove (axis = 0: row)"
      ],
      "execution_count": 0,
      "outputs": []
    },
    {
      "cell_type": "markdown",
      "metadata": {
        "id": "y_ptbX-8SpZH",
        "colab_type": "text"
      },
      "source": [
        "filling missing values: fillna()"
      ]
    },
    {
      "cell_type": "code",
      "metadata": {
        "id": "ZIz-VUVOSax_",
        "colab_type": "code",
        "colab": {}
      },
      "source": [
        "# TODO: add a new column that shows 'mental & behavioral disorder' for all \"F\" codes, 'other' for the rest"
      ],
      "execution_count": 0,
      "outputs": []
    },
    {
      "cell_type": "code",
      "metadata": {
        "id": "BQLLUsKTGqag",
        "colab_type": "code",
        "colab": {}
      },
      "source": [
        "df.loc[df['Category Code'].str.contains(\"F\")==True, 'Specialty'] = 'mental & behavioral disorders'"
      ],
      "execution_count": 0,
      "outputs": []
    },
    {
      "cell_type": "code",
      "metadata": {
        "id": "bT20e1fjMsrS",
        "colab_type": "code",
        "colab": {}
      },
      "source": [
        "df['Specialty'].fillna('other', inplace = True)"
      ],
      "execution_count": 0,
      "outputs": []
    },
    {
      "cell_type": "code",
      "metadata": {
        "id": "FsMYTaJCHM0N",
        "colab_type": "code",
        "colab": {}
      },
      "source": [
        "# how many unique categories for mental/behavioural disorders\n",
        "len(df.loc[df['Specialty'] == 'mental & behavioral disorders', 'Category Code'].unique())"
      ],
      "execution_count": 0,
      "outputs": []
    },
    {
      "cell_type": "code",
      "metadata": {
        "id": "ZFnU74zOAXS2",
        "colab_type": "code",
        "colab": {}
      },
      "source": [
        "df.loc[df['Abbreviated Description'].str.contains(\"schizo|bipo\")==True]"
      ],
      "execution_count": 0,
      "outputs": []
    },
    {
      "cell_type": "code",
      "metadata": {
        "id": "4nmE7BmUBCRh",
        "colab_type": "code",
        "colab": {}
      },
      "source": [
        "df['Abbreviated Description'] = df['Abbreviated Description'].str.lower()"
      ],
      "execution_count": 0,
      "outputs": []
    },
    {
      "cell_type": "code",
      "metadata": {
        "id": "kaQ_hWbRB_VA",
        "colab_type": "code",
        "colab": {}
      },
      "source": [
        "df.isnull().values.any()"
      ],
      "execution_count": 0,
      "outputs": []
    },
    {
      "cell_type": "code",
      "metadata": {
        "id": "1rJX7MzLCF_H",
        "colab_type": "code",
        "colab": {}
      },
      "source": [
        "df.loc[(df['Category Code'].isin(['F20', 'F21'])) &\n",
        "       (df['Diagnosis Code'].isnull())]"
      ],
      "execution_count": 0,
      "outputs": []
    },
    {
      "cell_type": "code",
      "metadata": {
        "id": "BS1XjB1HBSfB",
        "colab_type": "code",
        "colab": {}
      },
      "source": [
        "df2 = df.apply(lambda x: x.astype(str).str.lower())\n",
        "df2 = df.applymap(lambda x:x.lower() if type(x) == str else x)"
      ],
      "execution_count": 0,
      "outputs": []
    },
    {
      "cell_type": "markdown",
      "metadata": {
        "id": "fhLfvMtfKyG3",
        "colab_type": "text"
      },
      "source": [
        "### 2. Grouping and computing stats"
      ]
    },
    {
      "cell_type": "code",
      "metadata": {
        "id": "i9MRYWTfNUFJ",
        "colab_type": "code",
        "colab": {}
      },
      "source": [
        "mh_icd = df.loc[df.Specialty !='other'].copy() # we take a copy to play with that slice without messing up df"
      ],
      "execution_count": 0,
      "outputs": []
    },
    {
      "cell_type": "code",
      "metadata": {
        "id": "UFPbIsO6cOig",
        "colab_type": "code",
        "colab": {}
      },
      "source": [
        "mh_icd.head()"
      ],
      "execution_count": 0,
      "outputs": []
    },
    {
      "cell_type": "code",
      "metadata": {
        "id": "inWeuK6DNfLi",
        "colab_type": "code",
        "colab": {}
      },
      "source": [
        "mh_icd.describe(include = 'all')"
      ],
      "execution_count": 0,
      "outputs": []
    },
    {
      "cell_type": "code",
      "metadata": {
        "id": "bmPh87YiN7hA",
        "colab_type": "code",
        "colab": {}
      },
      "source": [
        "# let's add a column with number of patients for each code\n",
        "# (we will generate these numbers randomly)"
      ],
      "execution_count": 0,
      "outputs": []
    },
    {
      "cell_type": "code",
      "metadata": {
        "id": "pLiHWtmGQ6Fy",
        "colab_type": "code",
        "colab": {}
      },
      "source": [
        "np.random.seed(42) # initiate the seed\n",
        "mh_icd['num_patients'] = np.random.randint(0,100,len(mh_icd))"
      ],
      "execution_count": 0,
      "outputs": []
    },
    {
      "cell_type": "code",
      "metadata": {
        "id": "PU3LNfbMRHgP",
        "colab_type": "code",
        "colab": {
          "base_uri": "https://localhost:8080/",
          "height": 34
        },
        "outputId": "ed59a4e5-cb21-4270-c34f-0a02700f4d31"
      },
      "source": [
        "mh_icd['num_patients'].sum()"
      ],
      "execution_count": 149,
      "outputs": [
        {
          "output_type": "execute_result",
          "data": {
            "text/plain": [
              "37006"
            ]
          },
          "metadata": {
            "tags": []
          },
          "execution_count": 149
        }
      ]
    },
    {
      "cell_type": "code",
      "metadata": {
        "id": "EUc32lGLSzUz",
        "colab_type": "code",
        "colab": {}
      },
      "source": [
        "mh_icd.groupby(['Category Code', 'Abbreviated Description']).sum() # will only sum numerical values"
      ],
      "execution_count": 0,
      "outputs": []
    },
    {
      "cell_type": "code",
      "metadata": {
        "id": "lAYWJ4J6cvCE",
        "colab_type": "code",
        "colab": {}
      },
      "source": [
        "mh_icd.groupby(['Category Code', 'Abbreviated Description'])['num_patients'].agg(np.sum)"
      ],
      "execution_count": 0,
      "outputs": []
    },
    {
      "cell_type": "code",
      "metadata": {
        "id": "NKNTMKy1dM9K",
        "colab_type": "code",
        "colab": {
          "base_uri": "https://localhost:8080/",
          "height": 34
        },
        "outputId": "48daf575-0098-40fa-dc6d-a9b7d836c267"
      },
      "source": [
        "# category with most patients\n",
        "df_tmp = mh_icd.groupby(['Category Code', 'Abbreviated Description'])['num_patients'].sum()\n",
        "df_tmp.max()\n",
        "df_tmp.idxmax()\n",
        "#df_tmp.loc[df_tmp['num_patients'].idxmax()]"
      ],
      "execution_count": 167,
      "outputs": [
        {
          "output_type": "execute_result",
          "data": {
            "text/plain": [
              "('F063', 'Mood disorder due to known physiological condition, unsp')"
            ]
          },
          "metadata": {
            "tags": []
          },
          "execution_count": 167
        }
      ]
    },
    {
      "cell_type": "markdown",
      "metadata": {
        "id": "8N9k7QENbURi",
        "colab_type": "text"
      },
      "source": [
        "### 3. Merging with another dataset"
      ]
    },
    {
      "cell_type": "code",
      "metadata": {
        "id": "VPQgejnHK187",
        "colab_type": "code",
        "colab": {}
      },
      "source": [
        "groups = pd.read_csv('https://raw.githubusercontent.com/KCLaurelie/python101/master/icd_groups.csv')"
      ],
      "execution_count": 0,
      "outputs": []
    },
    {
      "cell_type": "code",
      "metadata": {
        "id": "V552Eb3wK75W",
        "colab_type": "code",
        "colab": {}
      },
      "source": [
        "groups.head()"
      ],
      "execution_count": 0,
      "outputs": []
    },
    {
      "cell_type": "code",
      "metadata": {
        "id": "8MhmXYWwPXuJ",
        "colab_type": "code",
        "colab": {}
      },
      "source": [
        "mh_icd['Category Code'].unique()\n",
        "mh_icd['Category Code'] = mh_icd['Category Code'].str.lower()"
      ],
      "execution_count": 0,
      "outputs": []
    },
    {
      "cell_type": "code",
      "metadata": {
        "id": "ScSX0mLjO9WG",
        "colab_type": "code",
        "colab": {}
      },
      "source": [
        "df_all = pd.merge(mh_icd, groups, how='left', left_on=['Category Code'], right_on=['code'])"
      ],
      "execution_count": 0,
      "outputs": []
    },
    {
      "cell_type": "code",
      "metadata": {
        "id": "BFiwdhhVQYge",
        "colab_type": "code",
        "colab": {}
      },
      "source": [
        "df_all.loc[~df_all['code'].isnull()].head()"
      ],
      "execution_count": 0,
      "outputs": []
    },
    {
      "cell_type": "markdown",
      "metadata": {
        "id": "QCdAZHO6Ropt",
        "colab_type": "text"
      },
      "source": [
        "## Some basic concepts about classes (WIP, NEED TO ADD CONTENT)"
      ]
    },
    {
      "cell_type": "code",
      "metadata": {
        "id": "y2T71s5KRsZ3",
        "colab_type": "code",
        "colab": {
          "base_uri": "https://localhost:8080/",
          "height": 34
        },
        "outputId": "ac7aeccc-71c9-4c44-b7c5-7ffc57e7e885"
      },
      "source": [
        "class Person:\n",
        "  def __init__(self, fname, lname):\n",
        "    self.firstname = fname\n",
        "    self.lastname = lname\n",
        "\n",
        "  def say_hello(self):\n",
        "    print(\"Hello my name is \" + self.firstname)\n",
        "\n",
        "p1 = Person(\"John\", \"Doe\")\n",
        "p1.say_hello()"
      ],
      "execution_count": 10,
      "outputs": [
        {
          "output_type": "stream",
          "text": [
            "Hello my name is John\n"
          ],
          "name": "stdout"
        }
      ]
    },
    {
      "cell_type": "code",
      "metadata": {
        "id": "ektMG72uR98W",
        "colab_type": "code",
        "colab": {}
      },
      "source": [
        "# modify the object property\n",
        "p1.age = 40"
      ],
      "execution_count": 0,
      "outputs": []
    },
    {
      "cell_type": "code",
      "metadata": {
        "id": "IWBuUUleSQae",
        "colab_type": "code",
        "colab": {
          "base_uri": "https://localhost:8080/",
          "height": 34
        },
        "outputId": "bf9fc78e-63ce-40db-f94b-994795226a00"
      },
      "source": [
        "# inheritance\n",
        "\n",
        "class Student(Person): # parent class passed as parameter\n",
        "  pass\n",
        "\n",
        "x = Student(\"Holden\", \"Caulfied\")\n",
        "x.say_hello()"
      ],
      "execution_count": 5,
      "outputs": [
        {
          "output_type": "stream",
          "text": [
            "Hello my name is Holden\n"
          ],
          "name": "stdout"
        }
      ]
    },
    {
      "cell_type": "code",
      "metadata": {
        "id": "bhbwJmTCSvQw",
        "colab_type": "code",
        "colab": {
          "base_uri": "https://localhost:8080/",
          "height": 51
        },
        "outputId": "21a08523-757d-4d77-a315-2aade7362664"
      },
      "source": [
        "class Student(Person):\n",
        "  def __init__(self, fname, lname, year):\n",
        "    Person.__init__(self, fname, lname) # call parent constructor\n",
        "    self.graduationyear = year\n",
        "\n",
        "  def welcome(self):\n",
        "    print(\"Welcome\", self.firstname, self.lastname, \"to the class of\", self.graduationyear)\n",
        "    \n",
        "x = Student(\"Holden\", \"Caulfied\", 2018)\n",
        "x.say_hello()\n",
        "x.welcome()"
      ],
      "execution_count": 11,
      "outputs": [
        {
          "output_type": "stream",
          "text": [
            "Hello my name is Holden\n",
            "Welcome Holden Caulfied to the class of 2018\n"
          ],
          "name": "stdout"
        }
      ]
    },
    {
      "cell_type": "markdown",
      "metadata": {
        "id": "xv4PcQ9mVDXk",
        "colab_type": "text"
      },
      "source": [
        "##concepts to cover later:\n",
        "\n",
        "- map, apply, lambda, (reduce?)\n",
        "\n",
        "- arrays\n",
        "\n",
        "- regex\n",
        "\n",
        "- object oriented\n",
        "\n",
        "- plots"
      ]
    }
  ]
}